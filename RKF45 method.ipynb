{
 "cells": [
  {
   "cell_type": "markdown",
   "id": "b41be1f4",
   "metadata": {},
   "source": [
    "by the way, just learned that you can put latex into markdown cells by putting it between $$\n",
    "\n",
    "Just found out about this one, called RKF45 which stands for Runge-Kutta-Fehlberg Fourth-order-fifth-order scheme. This uses the fifth order method of\n",
    "\n",
    "$$\n",
    "\\tilde{w_{i+1}}=w_i+\\frac{16}{135}k_1+\\frac{6656}{12825}k_3+\\frac{28561}{56430}k_4-\\frac{9}{50}k_5+\\frac{2}{55}k_6\n",
    "$$\n",
    "\n",
    "to estimate the local truncation error in one time step of the fourth-order method\n",
    "\n",
    "$$\n",
    "w_{i+1}=w_i+\\frac{25}{216}k_1+\\frac{1408}{2565}k_3+\\frac{2197}{4104}k_4-\\frac{1}{5}k_5\n",
    "$$\n",
    "\n",
    "But what the hell does that mean? Well we defined $w_i$ as $w_i \\approx y_i=y(t_i)$, so $w_i$ is the approximated $y_i$ value. Big difference between the two being that $y_i$ is the true value of our solution $y$ at time $t_i$ (or $x_i$ if we are using a different variable or whatever, its all interchangeable) and $w_i$ is our $\\textit{approximation}$ of $y_i$. But what is $\\tilde{w_i}$?\n",
    "\n",
    "Alright, theres a lot that I learned from this, this is gonna take some time to digest"
   ]
  },
  {
   "cell_type": "code",
   "execution_count": 13,
   "id": "231f3063",
   "metadata": {},
   "outputs": [],
   "source": [
    "import numpy as np\n",
    "import matplotlib.pyplot as plt\n",
    "import math"
   ]
  },
  {
   "cell_type": "code",
   "execution_count": 14,
   "id": "0f8144ad",
   "metadata": {},
   "outputs": [],
   "source": [
    "def functionInQuestion(x,t):\n",
    "    return(-3*t*(x**2)+(1/(1+t**3)))"
   ]
  },
  {
   "cell_type": "code",
   "execution_count": 67,
   "id": "d9a031b7",
   "metadata": {},
   "outputs": [],
   "source": [
    "def rkf45(function, initialStepSize, initialPair, intervalLength, minStepSize, maxStepSize, TOL):\n",
    "    totalLengthComputed = 0\n",
    "    stepSize = initialStepSize\n",
    "    \n",
    "    y0=initialPair[1]\n",
    "    x0=initialPair[0]\n",
    "    \n",
    "    lasty = y0\n",
    "    lastx = x0\n",
    "    \n",
    "    solutionx = np.array([x0])\n",
    "    solutiony = np.array([y0])\n",
    "    \n",
    "    i = 0\n",
    "    while totalLengthComputed <= intervalLength:\n",
    "        i += 1\n",
    "        print(i)\n",
    "        \n",
    "        #Compute coefficients\n",
    "        k1 = stepSize*function(lastx, lasty)\n",
    "        k2 = stepSize*function(lastx+(1/4)*stepSize, lasty+(1/4)*k1)\n",
    "        k3 = stepSize*function(lastx+(3/8)*stepSize, lasty+(3/32)*k1+(9/32)*k2)\n",
    "        k4 = stepSize*function(lastx+(12/13)*stepSize, lasty+(1932/2197)*k1-(7200/2197)*k2+(7296/2197)*k3)\n",
    "        k5 = stepSize*function(lastx+stepSize, lasty+(439/216)*k1-8*k2+(3680/513)*k3-(845/4104)*k4)\n",
    "        k6 = stepSize*function(lastx+(1/2)*stepSize, lasty-(8/27)*k1+2*k2-(3544/2565)*k3+(1859/4104)*k4-(11/40)*k5)\n",
    "        \n",
    "        #Calculate actual values\n",
    "        nexty = lasty+(25/216)*k1+(1408/2565)*k3+(2197/4101)*k4-(1/5)*k5\n",
    "#         predictedy = lasty+(16/135)*k1+(6656/12825)*k3+(28561/56430)*k4-(9/50)*k5+(2/55)*k6\n",
    "        truncatedError = ((1/360)*k1-(128/4275)*k3-(2197/75240)*k4+(1/50)*k5+(2/55)*k6)/stepSize\n",
    "        q = (TOL/(2*np.absolute(truncatedError)))**(1/4)\n",
    "        \n",
    "        print(truncatedError)\n",
    "        if truncatedError > TOL:\n",
    "            stepSize = stepSize*q\n",
    "            continue\n",
    "        \n",
    "        stepSize = stepSize*q\n",
    "        if stepSize >= maxStepSize:\n",
    "            stepSize = maxStepSize\n",
    "        if stepSize <= minStepSize:\n",
    "            stepSize = minStepSize\n",
    "        else:\n",
    "            stepSize = stepSize\n",
    "            \n",
    "        nextx = lastx+stepSize\n",
    "        \n",
    "        solutionx = np.append(solutionx, [nextx],axis=0)\n",
    "        solutiony = np.append(solutiony, [nexty],axis=0)\n",
    "        \n",
    "        lasty = nexty\n",
    "        lastx += stepSize\n",
    "        totalLengthComputed = lastx\n",
    "#         print(totalLengthComputed)\n",
    "        \n",
    "    solution = np.array([solutionx, solutiony])\n",
    "    return(solution)"
   ]
  },
  {
   "cell_type": "code",
   "execution_count": null,
   "id": "95c818a0",
   "metadata": {},
   "outputs": [],
   "source": []
  }
 ],
 "metadata": {
  "kernelspec": {
   "display_name": "Python 3 (ipykernel)",
   "language": "python",
   "name": "python3"
  },
  "language_info": {
   "codemirror_mode": {
    "name": "ipython",
    "version": 3
   },
   "file_extension": ".py",
   "mimetype": "text/x-python",
   "name": "python",
   "nbconvert_exporter": "python",
   "pygments_lexer": "ipython3",
   "version": "3.9.13"
  }
 },
 "nbformat": 4,
 "nbformat_minor": 5
}
