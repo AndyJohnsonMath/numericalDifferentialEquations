{
 "cells": [
  {
   "cell_type": "markdown",
   "id": "e8814010",
   "metadata": {},
   "source": [
    "This is a notebook detailing the Runge-Kutta method of numerical Differential equations. Set up exactly the same way as the Euler and Improved Euler functions, just running the Runge-Kutta algorithm instead. Some misc testing and plotting was done at the bottom. You can tell just by messing with the step size that this algorithm has tremendously reduced error, as expected."
   ]
  },
  {
   "cell_type": "code",
   "execution_count": 8,
   "id": "f531e053",
   "metadata": {},
   "outputs": [],
   "source": [
    "import numpy as np\n",
    "import matplotlib.pyplot as plt\n",
    "import math"
   ]
  },
  {
   "cell_type": "code",
   "execution_count": 52,
   "id": "0a50b254",
   "metadata": {},
   "outputs": [],
   "source": [
    "def functionInQuestion(x,y):\n",
    "    return(5*y-(6*np.exp(-x)))"
   ]
  },
  {
   "cell_type": "code",
   "execution_count": 37,
   "id": "10259731",
   "metadata": {},
   "outputs": [],
   "source": [
    "def rungeKutta(stepSize, initialPair, function, intervalLength):\n",
    "    y0=initialPair[1]\n",
    "    x0=initialPair[0]\n",
    "    \n",
    "    lasty = y0\n",
    "    lastx = x0\n",
    "    \n",
    "    solutionx = np.array([x0])\n",
    "    solutiony = np.array([y0])\n",
    "    iterations = math.floor(intervalLength/stepSize)\n",
    "    for i in range(iterations):\n",
    "        k1 = function(lastx,lasty)\n",
    "        k2 = function(lastx+(stepSize/2), lasty+(stepSize*(k1/2)))\n",
    "        k3 = function(lastx+(stepSize/2), lasty+(stepSize*(k2/2)))\n",
    "        k4 = function(lastx+stepSize, lasty+(stepSize*k3))\n",
    "        \n",
    "        nexty = lasty+((stepSize/6)*(k1+2*k2+2*k3+k4))\n",
    "        nextx = lastx+stepSize\n",
    "        solutionx = np.append(solutionx, [nextx],axis=0)\n",
    "        solutiony = np.append(solutiony, [nexty],axis=0)\n",
    "        \n",
    "        lasty = nexty\n",
    "        lastx += stepSize\n",
    "        \n",
    "    solution = np.array([solutionx, solutiony])\n",
    "    return(solution)"
   ]
  },
  {
   "cell_type": "code",
   "execution_count": 55,
   "id": "f153dfbf",
   "metadata": {},
   "outputs": [
    {
     "data": {
      "text/plain": [
       "(0.0, 3.0)"
      ]
     },
     "execution_count": 55,
     "metadata": {},
     "output_type": "execute_result"
    },
    {
     "data": {
      "image/png": "[encoded data removed]",
      "text/plain": [
       "<Figure size 640x480 with 1 Axes>"
      ]
     },
     "metadata": {},
     "output_type": "display_data"
    }
   ],
   "source": [
    "stepSize = 0.01\n",
    "intervalLength = 3\n",
    "iterations = math.floor(intervalLength/stepSize)\n",
    "\n",
    "solution = rungeKutta(stepSize,np.array([0,1]), functionInQuestion, intervalLength)\n",
    "\n",
    "fig, ax = plt.subplots()\n",
    "\n",
    "ax.plot(solution[0],solution[1])\n",
    "ax.axhline(y=0, color='black', linestyle='--', linewidth=0.5)\n",
    "ax.axvline(x=0, color='black', linestyle='--', linewidth=0.5)\n",
    "plt.ylim(-4,8)\n",
    "plt.xlim(0,3)"
   ]
  },
  {
   "cell_type": "code",
   "execution_count": null,
   "id": "223dd0a0",
   "metadata": {},
   "outputs": [],
   "source": []
  }
 ],
 "metadata": {
  "kernelspec": {
   "display_name": "Python 3 (ipykernel)",
   "language": "python",
   "name": "python3"
  },
  "language_info": {
   "codemirror_mode": {
    "name": "ipython",
    "version": 3
   },
   "file_extension": ".py",
   "mimetype": "text/x-python",
   "name": "python",
   "nbconvert_exporter": "python",
   "pygments_lexer": "ipython3",
   "version": "3.9.13"
  }
 },
 "nbformat": 4,
 "nbformat_minor": 5
}
