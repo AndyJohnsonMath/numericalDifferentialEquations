{
 "cells": [
  {
   "cell_type": "code",
   "execution_count": 1,
   "id": "cb8f94e4",
   "metadata": {},
   "outputs": [],
   "source": [
    "import numpy as np\n",
    "import matplotlib.pyplot as plt\n",
    "import math\n",
    "import numDiffEqPyLib as ode"
   ]
  },
  {
   "cell_type": "markdown",
   "id": "0409fcbe",
   "metadata": {},
   "source": [
    "I want to recreate the wave equation. Why do I focus on the wave equation so much? Couldnt tell you, but I love it and think its beautiful, so I want to recreate it. From what i've found I gotta do central difference formulas in space and time. For 1D, we have the wave equation as\n",
    "\n",
    "$$\n",
    "\\frac{\\partial^2 u}{\\partial t^2} = c^2 \\frac{\\partial^2 u}{\\partial x^2}\n",
    "$$\n",
    "\n",
    "And anything higher can be generalized as\n",
    "\n",
    "$$\n",
    "\\frac{\\partial^2 u}{\\partial t^2} = c^2 \\nabla^2 u.\n",
    "$$\n",
    "\n",
    "But for simplicity, lets just chill with the 1D case for the time being. From numerical analysis we can recall the definition of central finite differences equation is \n",
    "\n",
    "$$\n",
    "\\frac{d^2 f}{dx^2} \\approx \\frac{f(x_0+\\Delta x)-2f(x_0)+f(x_0-\\Delta x)}{(\\Delta x)^2}\n",
    "$$\n",
    "\n",
    "And abstracting to partial differential equations we get\n",
    "\n",
    "$$\n",
    "\\frac{\\partial^2 u}{\\partial t^2}(x_0, t_0) = \\approx \\frac{u(x_0+\\Delta x, t_0)-2u(x_0,t_0)+u(x_0-\\Delta x,t_0)}{(\\Delta x)^2}.\n",
    "$$\n",
    "\n",
    "Quick note, that $\\Delta x$ in the denominator is only there because we are thinking of the partial derivative with respect to space. If we were talking about the partial derivative with respect to time it would be $\\Delta t$, as we will see in the later equations. It then becomes a natural extension for the time dimension. Substituting in the central difference formulas into the original wave equation (Still staying 1D for simplicity)\n",
    "\n",
    "$$\n",
    "\\frac{u_j^{(m+1)}-2u_j^{(m)}+u_j^{(m-1)}}{(\\Delta t)^2} \\approx c^2 \\frac{u_j^{(m+1)}-2u_j^{(m)}+u_j^{(m-1)}}{(\\Delta x)^2}.\n",
    "$$\n",
    "\n",
    "Thats what ive gotten so far. Now my questions are, what the heck are $m$ and $j$? Upon further looking, find that \n",
    "\n",
    "$$\n",
    "u_j^{(m)} = \\tilde{u}(x_0, t_0)\n",
    "$$\n",
    "\n",
    "which is the approximated value of $u$. However, we have run into a problem. Wave equation seems to be a tad bit complicated for what tools we have at our disposal right now. So we are going to switch to the heat equation instead, which  is a little simpler. But if we can simulate the heat equation then simulating the wave equation SHOULD be a natural extension. So lets see what happens. Rearranging everything into something that makes sense from a computing standpoint we get\n",
    "\n",
    "$$\n",
    "u_i^{new}=u_i^{old}+s(u_{i+1}^{old}+2u_i^{old}+u_{i-1}^{old})\n",
    "$$\n",
    "\n",
    "with $s$ being $s=k\\frac{\\Delta t}{(\\Delta x)^2}$. This is just the coefficient gained from rearranging. Remember this is for the HEAT EQUATION, NOT the wave equation.\n",
    "\n",
    "In the next cell lets lay out some pseudocode for how we should approach this."
   ]
  },
  {
   "cell_type": "code",
   "execution_count": 2,
   "id": "6bc54507",
   "metadata": {},
   "outputs": [],
   "source": [
    "# for t in time\n",
    "#     for x over space\n",
    "#         check for edge cases\n",
    "#         compute using u_i^{new}=u_i^{old}+s(u_{i+1}^{old}+2u_i^{old}+u_{i-1}^{old})\n",
    "#         store in an array where each index is another x graph\n",
    "\n",
    "# for frame in array\n",
    "#     plot frame\n",
    "#     save frame\n",
    "    \n",
    "# after loops, create movie using ffmpeg"
   ]
  },
  {
   "cell_type": "code",
   "execution_count": 3,
   "id": "8ea424a1",
   "metadata": {},
   "outputs": [
    {
     "ename": "NameError",
     "evalue": "name 'x' is not defined",
     "output_type": "error",
     "traceback": [
      "\u001b[1;31m---------------------------------------------------------------------------\u001b[0m",
      "\u001b[1;31mNameError\u001b[0m                                 Traceback (most recent call last)",
      "Cell \u001b[1;32mIn[3], line 2\u001b[0m\n\u001b[0;32m      1\u001b[0m \u001b[38;5;66;03m#x[-1:0] gives the last element of the array\u001b[39;00m\n\u001b[1;32m----> 2\u001b[0m \u001b[38;5;28mprint\u001b[39m(\u001b[43mx\u001b[49m[\u001b[38;5;241m-\u001b[39m\u001b[38;5;241m1\u001b[39m:])\n",
      "\u001b[1;31mNameError\u001b[0m: name 'x' is not defined"
     ]
    }
   ],
   "source": [
    "#x[-1:0] gives the last element of the array\n",
    "print(x[-1:])"
   ]
  },
  {
   "cell_type": "code",
   "execution_count": 4,
   "id": "3848144e",
   "metadata": {},
   "outputs": [],
   "source": [
    "def initialFunction(x):\n",
    "    return(np.sin(np.pi*x))"
   ]
  },
  {
   "cell_type": "code",
   "execution_count": 31,
   "id": "9be3759c",
   "metadata": {
    "scrolled": true
   },
   "outputs": [],
   "source": [
    "#Length of rod\n",
    "length = 1\n",
    "timeInterval = 0.1\n",
    "k=1\n",
    "\n",
    "x = np.linspace(0,1,10)\n",
    "t = np.linspace(0,0.1,50)\n",
    "\n",
    "#number of time steps\n",
    "numSpace = 10\n",
    "numTime = 50\n",
    "\n",
    "#Definition of changes\n",
    "deltax = length/numSpace\n",
    "deltat = timeInterval/numTime\n",
    "\n",
    "s = (k*deltat)/(deltax**2)\n",
    "\n",
    "heatData = np.zeros((len(t),len(x)))\n",
    "\n",
    "#Initialize the first entry\n",
    "heatData[0]=initialFunction(x)\n",
    "\n",
    "lastu = heatData[0]\n",
    "nextu = np.zeros(len(heatData[0]))\n",
    "\n",
    "for j in range(len(t)):\n",
    "    for i in range(len(x)):\n",
    "        if j == 0:\n",
    "            continue\n",
    "        else:\n",
    "            if i == 0:\n",
    "                nextu[i] = 0\n",
    "            if i == len(x)-1:\n",
    "                nextu[i] = 0\n",
    "            else:\n",
    "                nextu[i] = lastu[i]+s*(lastu[i+1]-2*lastu[i]+lastu[i-1])\n",
    "        heatData[i] = nextu\n",
    "        lastu = nextu"
   ]
  },
  {
   "cell_type": "code",
   "execution_count": 36,
   "id": "b9fc1318",
   "metadata": {
    "scrolled": true
   },
   "outputs": [
    {
     "data": {
      "image/png": "[encoded data removed]",
      "text/plain": [
       "<Figure size 640x480 with 1 Axes>"
      ]
     },
     "metadata": {},
     "output_type": "display_data"
    }
   ],
   "source": [
    "fig, ax = plt.subplots()\n",
    "ax.plot(heatData[0])\n",
    "\n",
    "# Set a fixed aspect ratio (e.g., 1)\n",
    "ax.set_aspect('equal', adjustable='box')\n",
    "\n",
    "# Set plot title and labels\n",
    "ax.set_xlabel('X-axis')\n",
    "ax.set_ylabel('Y-axis')\n",
    "\n",
    "# Show the plot\n",
    "plt.show()"
   ]
  },
  {
   "cell_type": "code",
   "execution_count": null,
   "id": "d8c8dced",
   "metadata": {},
   "outputs": [],
   "source": []
  }
 ],
 "metadata": {
  "kernelspec": {
   "display_name": "Python 3 (ipykernel)",
   "language": "python",
   "name": "python3"
  },
  "language_info": {
   "codemirror_mode": {
    "name": "ipython",
    "version": 3
   },
   "file_extension": ".py",
   "mimetype": "text/x-python",
   "name": "python",
   "nbconvert_exporter": "python",
   "pygments_lexer": "ipython3",
   "version": "3.9.13"
  }
 },
 "nbformat": 4,
 "nbformat_minor": 5
}
